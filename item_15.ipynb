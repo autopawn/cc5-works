{
 "cells": [
  {
   "cell_type": "code",
   "execution_count": null,
   "metadata": {},
   "outputs": [],
   "source": [
    "import numpy as np\n",
    "from numba import jit\n",
    "import sympy"
   ]
  },
  {
   "cell_type": "markdown",
   "metadata": {},
   "source": [
    "# Item XV\n",
    "\n",
    "Considering the following inner product:\n",
    "$$\n",
    "\\langle p(x),q(x) \\rangle =\\int_{-1}^{1} \\overline{p(x)}q(x) dx\n",
    "$$\n",
    "\n",
    "* Let $A= [1|x|x^2|...|x^{n-1}]$ be the \"matrix\" whose \"columns\" are the monomials $x^j$, for $j=0,...,n-1$. Each column is a function in $L^2[-1,1]$. compute the $QR$ decomposition of $A$.\n",
    "* Let $A=[1|\\sin(2\\pi x)|\\sin(4\\pi x)|...|x^{n-1}]$ be the \"matrix\" whose \"columns\" are the functions $1$ and $\\sin(2\\pi x)$, for $j=1,...,n-1$. Each column is a function in $L^2[-1,1]$. Compute the $QR$ decomposition of $A$. \n",
    "* Do part (a) numerically. Make sure you understand what you are doing since this is a important concept that links symbolic computing with numerical computing.\n",
    "\n",
    "---"
   ]
  },
  {
   "cell_type": "code",
   "execution_count": null,
   "metadata": {},
   "outputs": [],
   "source": [
    "# This is a generic version of Gram-Schmidt, by default it works on matrices.\n",
    "# For other uses, replace default argument functions.\n",
    "def generic_gs(\n",
    "        elems,\n",
    "        scalar = lambda a,x : a*x,\n",
    "        prod = lambda x,y : np.sum(x*y),\n",
    "        neg = lambda x,y : x-y,\n",
    "    ):\n",
    "    \"\"\"\n",
    "    elems = [T]\n",
    "    scalar :: T -> Float -> T\n",
    "    prod :: T -> T -> Float\n",
    "    neg :: T -> T -> T\n",
    "    NOTE: if is used for a regular matrix, elems must be row-wise.\n",
    "    \"\"\"\n",
    "    n = len(elems)\n",
    "    r = np.zeros((n,n))\n",
    "    for i in range(n):\n",
    "        for j in range(i):\n",
    "            projection = prod(elems[j],elems[i])/prod(elems[j],elems[j])\n",
    "            r[j,i] = projection\n",
    "            elems[i] = neg(elems[i],scalar(projection,elems[j]))\n",
    "        norm2 = prod(elems[i],elems[i])\n",
    "        if norm2<0:\n",
    "            print(\"Warning: negative norm2=%f at i=%d!\"%(norm2,i))\n",
    "        norm = norm2**0.5\n",
    "        r[i,i] = norm\n",
    "        elems[i] = scalar(norm**-1,elems[i])\n",
    "    return r"
   ]
  },
  {
   "cell_type": "code",
   "execution_count": null,
   "metadata": {},
   "outputs": [],
   "source": [
    "def symbolic_inner_product(f,q):\n",
    "    x = sympy.Symbol('x')\n",
    "    v = sympy.integrate(f*q,(x,-1,1))\n",
    "    # We evaluate the expresion as a number because we can't afford the whole symbolic\n",
    "    # expression...\n",
    "    return float(v)"
   ]
  },
  {
   "cell_type": "code",
   "execution_count": null,
   "metadata": {},
   "outputs": [],
   "source": [
    "# We define the list of functions for part a\n",
    "def part_a_funcs(n):\n",
    "    x = sympy.Symbol('x')\n",
    "    part = [x**i for i in range(n)]\n",
    "    return part"
   ]
  },
  {
   "cell_type": "code",
   "execution_count": null,
   "metadata": {},
   "outputs": [],
   "source": [
    "def part_b_funcs(n):\n",
    "    x = sympy.Symbol('x')\n",
    "    part = [x**0] + [sympy.sin(2*i*sympy.pi*x) for i in range(1,n)]\n",
    "    return part"
   ]
  },
  {
   "cell_type": "code",
   "execution_count": null,
   "metadata": {},
   "outputs": [],
   "source": [
    "# We can print an array of functions:\n",
    "print(part_a_funcs(10))\n",
    "print(part_b_funcs(10))"
   ]
  },
  {
   "cell_type": "code",
   "execution_count": null,
   "metadata": {
    "scrolled": false
   },
   "outputs": [],
   "source": [
    "# We compute the decompositions\n",
    "FUNCS = [part_a_funcs(5),part_b_funcs(5),part_a_funcs(1000),part_b_funcs(100)]\n",
    "for funcs in FUNCS:\n",
    "    # Print Original matrix\n",
    "    print(\"-\"*20+\"Functions:\")\n",
    "    print(funcs)\n",
    "    # Perform QR decomposition using generic G-S\n",
    "    r = generic_gs(funcs,prod=symbolic_inner_product)\n",
    "    # Print Q\n",
    "    print(\"Q:\")\n",
    "    print(funcs)\n",
    "    # Print R\n",
    "    print(\"R:\")\n",
    "    print(r)"
   ]
  },
  {
   "cell_type": "markdown",
   "metadata": {},
   "source": [
    "We can see that the functions of the second item are ortogonal, so the $QR$ decomposition gives the indentity (besides the first function $y(x)=1$ that has to be normalized).\n",
    "\n",
    "At $i=27$ the function coeficients become too small to handle. The norm (inner product with itself) of the functions after substracting the projections becomes small, and negative."
   ]
  },
  {
   "cell_type": "code",
   "execution_count": null,
   "metadata": {},
   "outputs": [],
   "source": [
    "FUNCS = [part_a_funcs(1000),part_b_funcs(1000)]\n",
    "for funcs in FUNCS:\n",
    "    # Print Original matrix\n",
    "    print(\"-\"*20+\"Functions:\")\n",
    "    print(funcs)\n",
    "    # Perform QR decomposition using generic G-S\n",
    "    r = generic_gs(funcs,prod=symbolic_inner_product)\n",
    "    # Print Q\n",
    "    print(\"Q:\")\n",
    "    print(funcs)\n",
    "    # Print R\n",
    "    print(\"R:\")\n",
    "    print(r)"
   ]
  },
  {
   "cell_type": "markdown",
   "metadata": {},
   "source": [
    "---\n",
    "To do it numerically, let's define a polynomial\n",
    "$$\n",
    "p(x) = \\sum_{i=0}^{n-1} p_i x^i\n",
    "$$\n",
    "as the array of the $p_i$'s.\n",
    "\n",
    "Then the multiplication becomes:\n",
    "$$\n",
    "p(x)q(x) =  \\sum_{i=0}^{2n-2} \\left( \\sum_{k=0}^{i} p_k q_{i-k} \\right) x^{i} \\,,\n",
    "$$\n",
    "then the inner product becomes:\n",
    "\\begin{align*}\n",
    "\\int_{-1}^{1} p(x)q(x) \\, dx &= \\sum_{i=0}^{2n-2} \\left( \\sum_{k=0}^{i} p_k q_{i-k} \\right) \\frac{x^{i+1}}{i+1} |_{x=-1}^{1}\n",
    "\\\\ &= \\sum_{i=0}^{2n-2} [i \\, \\text{mod} \\, 2= 0] \\left( \\sum_{k=0}^{i} p_k q_{i-k} \\right) \\frac{2}{i+1}\n",
    "\\end{align*}"
   ]
  },
  {
   "cell_type": "code",
   "execution_count": null,
   "metadata": {},
   "outputs": [],
   "source": [
    "@jit(nopython=True)\n",
    "def poly_mult(a,b):\n",
    "    assert(len(a)==len(b))\n",
    "    n = len(a)\n",
    "    total = 0\n",
    "    for i in range(0,2*n-1,2):\n",
    "        term = 0\n",
    "        for k in range(0,i+1):\n",
    "            if k>=0 and i-k>=0 and k<n and i-k<n:\n",
    "                term += a[k]*b[i-k]\n",
    "        term *= 2.0/(i+1.0)\n",
    "        total += term\n",
    "    return total"
   ]
  },
  {
   "cell_type": "code",
   "execution_count": null,
   "metadata": {},
   "outputs": [],
   "source": [
    "def poly_print(poly):\n",
    "    stri = []\n",
    "    if len(poly)>0 and poly[0] != 0: stri.append(\"%.3f\"%poly[0])\n",
    "    if len(poly)>1 and poly[1] != 0: stri.append(\"%.3fx\"%poly[1])\n",
    "    for i in range(2,len(poly)):\n",
    "        if poly[i]!=0:\n",
    "            stri.append(\"%+.3fx%d\"%(poly[i],i))\n",
    "    if len(stri)==0: return \"0\"\n",
    "    return \" \".join(stri)\n",
    "\n",
    "def poly_matrix_print(polys,limit=10):\n",
    "    print(\"[\")\n",
    "    if len(polys)>2*limit:\n",
    "        for poly in polys[:limit]:\n",
    "            print(\"  \"+poly_print(poly)+\" |\")\n",
    "        print(\"  ...\")\n",
    "        for poly in polys[-limit:]:\n",
    "            print(\"  \"+poly_print(poly)+\" |\")\n",
    "    else:\n",
    "        for poly in polys:\n",
    "            print(\"  \"+poly_print(poly)+\" |\")\n",
    "    print(\"]\")"
   ]
  },
  {
   "cell_type": "code",
   "execution_count": null,
   "metadata": {},
   "outputs": [],
   "source": [
    "poly_mult([1,2,3],[2,5,1])"
   ]
  },
  {
   "cell_type": "code",
   "execution_count": null,
   "metadata": {
    "scrolled": false
   },
   "outputs": [],
   "source": [
    "for N in (5,10,1000):\n",
    "    # Print Original matrix\n",
    "    polys = np.eye(N)\n",
    "    print(\"-\"*20+\" Original (N=%d):\"%N)\n",
    "    poly_matrix_print(polys)\n",
    "    # Perform QR decomposition using generic G-S\n",
    "    r = generic_gs(polys,prod=poly_mult)\n",
    "    # Print Q\n",
    "    print(\"Q:\")\n",
    "    poly_matrix_print(polys)\n",
    "    # Assert that Q is orthonormal\n",
    "    for i in range(N):\n",
    "        for j in range(N):\n",
    "            if i==j:\n",
    "                assert(np.abs(poly_mult(polys[i],polys[j])-1)<1e-5)\n",
    "            else:\n",
    "                assert(np.abs(poly_mult(polys[i],polys[j]))<1e-5)\n",
    "    # Print R\n",
    "    print(\"R:\")\n",
    "    print(r)"
   ]
  },
  {
   "cell_type": "markdown",
   "metadata": {},
   "source": [
    "We can see that the numerical method fails for $N=1000$. After a closer inspection, this was because, after substracting the projection with the previous functions, the remaining polynomial had very small coefficients, around $i=27$ too."
   ]
  },
  {
   "cell_type": "code",
   "execution_count": null,
   "metadata": {},
   "outputs": [],
   "source": []
  }
 ],
 "metadata": {
  "kernelspec": {
   "display_name": "Python 3",
   "language": "python",
   "name": "python3"
  },
  "language_info": {
   "codemirror_mode": {
    "name": "ipython",
    "version": 3
   },
   "file_extension": ".py",
   "mimetype": "text/x-python",
   "name": "python",
   "nbconvert_exporter": "python",
   "pygments_lexer": "ipython3",
   "version": "3.6.8"
  }
 },
 "nbformat": 4,
 "nbformat_minor": 2
}
