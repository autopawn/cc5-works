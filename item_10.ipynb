{
 "cells": [
  {
   "cell_type": "markdown",
   "metadata": {},
   "source": [
    "# Item X\n",
    "\n",
    "Let\n",
    "$$\n",
    "H(x) = \\begin{cases}\n",
    "    1 & \\text{if} -0.5 \\leq x \\leq 0.5\n",
    "    \\\\ 0 & \\text{otherwise}\n",
    "\\end{cases} \\, .\n",
    "$$\n",
    "\n",
    "Compute $F(x) = \\int_{-\\infty}^{\\infty} \\tilde{H}_a(y) \\tilde{H}_b(x-y) \\, dx$ where $\\tilde{H}_a(x) = \\frac{1}{a} H\\left( \\frac{x}{a} \\right)$.\n",
    "\n",
    "---"
   ]
  },
  {
   "cell_type": "markdown",
   "metadata": {},
   "source": [
    "We can work with the definition:\n",
    "\\begin{align}\n",
    "\\int_{-\\infty}^{\\infty} \\tilde{H}_a(y) \\tilde{H}_b(x-y) \\, dx\n",
    "&= \\frac{1}{a} \\int_{-\\infty}^{\\infty} H\\left(\\frac{y}{a}\\right) \\tilde{H}_b(x-y) \\, dx\n",
    "\\\\ &= \\frac{1}{a} \\int_{-a/2}^{a/2} \\tilde{H}_b(x-y) \\, dx\n",
    "\\\\ &= \\frac{1}{ab} \\int_{-a/2}^{a/2} H\\left(\\frac{x-y}{b}\\right) \\, dx\n",
    "\\\\ &= \\frac{1}{ab} \\int_{-a/2}^{a/2} H\\left(\\frac{y-x}{b}\\right) \\, dx\n",
    "\\\\ &= \\frac{1}{ab} \\max\\left( R-L, 0 \\right)\n",
    "\\end{align}\n",
    "\n",
    "where\n",
    "$$\n",
    "L = \\max\\left(-\\frac{a}{2}, x-\\frac{b}{2} \\right)\n",
    "$$\n",
    "$$\n",
    "R = \\min\\left(\\frac{a}{2}, x+\\frac{b}{2} \\right)\n",
    "$$"
   ]
  },
  {
   "cell_type": "code",
   "execution_count": 13,
   "metadata": {},
   "outputs": [],
   "source": [
    "def convolution(a,b):\n",
    "    return lambda x: (a*b)**-1 * max(min(a/2.0,x+b/2.0)-max(-a/2.0,x-b/2.0),0)"
   ]
  },
  {
   "cell_type": "code",
   "execution_count": 16,
   "metadata": {},
   "outputs": [
    {
     "data": {
      "text/plain": [
       "0.16666666666666666"
      ]
     },
     "execution_count": 16,
     "metadata": {},
     "output_type": "execute_result"
    }
   ],
   "source": [
    "conv = convolution(4,3)\n",
    "conv(-1.5)"
   ]
  },
  {
   "cell_type": "code",
   "execution_count": null,
   "metadata": {},
   "outputs": [],
   "source": []
  }
 ],
 "metadata": {
  "kernelspec": {
   "display_name": "Python 3",
   "language": "python",
   "name": "python3"
  },
  "language_info": {
   "codemirror_mode": {
    "name": "ipython",
    "version": 3
   },
   "file_extension": ".py",
   "mimetype": "text/x-python",
   "name": "python",
   "nbconvert_exporter": "python",
   "pygments_lexer": "ipython3",
   "version": "3.6.8"
  }
 },
 "nbformat": 4,
 "nbformat_minor": 2
}
