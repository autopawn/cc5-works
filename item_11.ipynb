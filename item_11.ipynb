{
 "cells": [
  {
   "cell_type": "code",
   "execution_count": 1,
   "metadata": {},
   "outputs": [],
   "source": [
    "import numpy as np\n",
    "import matplotlib.pyplot as plt\n",
    "from ipywidgets import interact "
   ]
  },
  {
   "cell_type": "markdown",
   "metadata": {},
   "source": [
    "$%\\newcommand{\\fou}[2]{\\widehat{#1}^{(#2)}}$\n",
    "$\\newcommand{\\fou}[2]{\\widehat{#1}}$"
   ]
  },
  {
   "cell_type": "markdown",
   "metadata": {},
   "source": [
    "# Item XI\n",
    "\n",
    "Use the Fourier transfrom to solve the following PDE:\n",
    "\n",
    "\\begin{align}\n",
    "u_t - k u_{xx} &= 0 \\text{ and } t>0\n",
    "\\\\u(x,0) &= f(x) \\, , \\,  x \\in \\mathbb{R}\n",
    "\\end{align}\n",
    "Assume $f$ and $u \\in L^{2}(\\mathbb{R})$.\n",
    "\n",
    "\n",
    "---"
   ]
  },
  {
   "cell_type": "markdown",
   "metadata": {},
   "source": [
    "We apply the Fourier transform with respect to the variable $x$ on both equations.\n",
    "\n",
    "In the first one:\n",
    "\\begin{align}\n",
    "\\fou{u_t}{x} - k \\fou{u_{xx}}{x} &= 0\n",
    "\\\\ \\fou{u_t}{x} - k(2\\pi i \\xi)^2 \\fou{u}{x} &= 0\n",
    "\\\\ \\fou{u_t}{x} + k(2\\pi \\xi)^2 \\fou{u}{x} &= 0 \\, .\n",
    "\\end{align}\n",
    "We now use the following property (see this [link](https://www.math.ubc.ca/~feldman/m267/pdeft.pdf)):\n",
    "$$\n",
    "\\fou{\\frac{\\partial u}{\\partial t}}{x}(\\xi,t) = \\frac{\\partial \\fou{u}{x}(\\xi,t)}{\\partial t} \\,.\n",
    "$$ and\n",
    "\\begin{align}\n",
    "\\\\ \\left(\\fou{u}{x}\\right)_t + k(2\\pi \\xi)^2 \\fou{u}{x} &= 0 \n",
    "\\\\ \\left(\\fou{u}{x}\\right)_t &= -k(2\\pi \\xi)^2 \\fou{u}{x} \\, .\n",
    "\\end{align}\n",
    "The solution to this ordinary PDE is:\n",
    "\\begin{align}\n",
    "\\fou{u}{x}(\\xi,t) = c(\\xi)e^{-k(2\\pi \\xi)^2 t} \n",
    "\\end{align}\n",
    "\n",
    "We can see that at $t=0$:\n",
    "\\begin{align}\n",
    "\\fou{u}{x}(\\xi,0) &= c(\\xi)\n",
    "\\\\ \\fou{f}{x}(\\xi) &= c(\\xi)\n",
    "\\end{align}\n",
    "\n",
    "Finally, the solution is:\n",
    "\\begin{align}\n",
    "\\fou{u}{x}(\\xi,t) &= \\fou{f}{x}(\\xi)e^{-k(2\\pi \\xi)^2 t} \n",
    "\\\\ u(x,t) &= \\int_{-\\infty}^{\\infty} \\fou{f}{x}(\\xi)e^{-k(2\\pi \\xi)^2 t} e^{2\\pi i \\xi x} d\\xi\n",
    "\\\\ &= \\int_{-\\infty}^{\\infty} \\fou{f}{x}(\\xi)e^{-k(2\\pi \\xi)^2 t} e^{2\\pi i \\xi x} d\\xi\n",
    "\\end{align}"
   ]
  },
  {
   "cell_type": "code",
   "execution_count": 31,
   "metadata": {},
   "outputs": [],
   "source": [
    "def discretize(fn,xi,xf,N=101):\n",
    "    xs = np.linspace(xi,xf,num=N)\n",
    "    fs = fn(xs)\n",
    "    return fs\n",
    "\n",
    "# The discrete fourier transform\n",
    "def discrete_fourier_transform(fs,derivate=0,inverse=False):\n",
    "    N = fs.shape[0]\n",
    "    ns = np.arange(N)\n",
    "    if inverse:\n",
    "        ts = [(1.0/N)*np.sum(fs*np.exp(1j*2*np.pi*k/N*ns)) for k in range(N)]\n",
    "    else:\n",
    "        ts = [np.sum(fs*np.exp(-1j*2*np.pi*k/N*ns)) for k in range(N)]\n",
    "    return np.array(ts)"
   ]
  },
  {
   "cell_type": "code",
   "execution_count": 34,
   "metadata": {},
   "outputs": [],
   "source": [
    "def solve_pde(f,K,xi,xf,tf,N=300,M=50):\n",
    "    fx = discretize(f,xi,xf,N=N) # u(x,0)\n",
    "    ees = np.arange(N)/(xf-xi)\n",
    "    fxt = discrete_fourier_transform(fx)\n",
    "    ts = np.linspace(0,tf,num=M)\n",
    "    funct = lambda t: fxt*np.exp(-K*(2*np.pi*ees)**2*t)\n",
    "    uts = [discrete_fourier_transform(funct(t),inverse=True) for t in ts]\n",
    "    return uts"
   ]
  },
  {
   "cell_type": "code",
   "execution_count": 36,
   "metadata": {
    "scrolled": false
   },
   "outputs": [
    {
     "data": {
      "application/vnd.jupyter.widget-view+json": {
       "model_id": "68c0438e84fe4e83a43523ac4844d0cb",
       "version_major": 2,
       "version_minor": 0
      },
      "text/plain": [
       "interactive(children=(IntSlider(value=0, description='i', max=49), Output()), _dom_classes=('widget-interact',…"
      ]
     },
     "metadata": {},
     "output_type": "display_data"
    },
    {
     "data": {
      "text/plain": [
       "<function __main__.plot_at_time(i=0)>"
      ]
     },
     "execution_count": 36,
     "metadata": {},
     "output_type": "execute_result"
    }
   ],
   "source": [
    "X_I = -4\n",
    "X_F = 4\n",
    "KK = 0.2\n",
    "T_F = 10.0\n",
    "\n",
    "# We test with a function, say:\n",
    "F_MAX = 1\n",
    "fn = lambda x: np.exp(-x**2.0)\n",
    "us = solve_pde(fn,K=KK,xi=X_I,xf=X_F,tf=T_F)\n",
    "xs = np.linspace(X_I,X_F,num=us[0].shape[0])\n",
    "\n",
    "def plot_at_time(i=0):\n",
    "    plt.plot(xs,us[i],'-')\n",
    "    plt.ylim((0,F_MAX))\n",
    "    plt.grid()\n",
    "    plt.title(\"$u(x,t=%f)$\"%(T_F*i/(len(us)-1.0)))\n",
    "    plt.show()\n",
    "\n",
    "interact(plot_at_time,i=(0,len(us)-1),continuous_update=False)"
   ]
  },
  {
   "cell_type": "code",
   "execution_count": null,
   "metadata": {},
   "outputs": [],
   "source": []
  }
 ],
 "metadata": {
  "kernelspec": {
   "display_name": "Python 3",
   "language": "python",
   "name": "python3"
  },
  "language_info": {
   "codemirror_mode": {
    "name": "ipython",
    "version": 3
   },
   "file_extension": ".py",
   "mimetype": "text/x-python",
   "name": "python",
   "nbconvert_exporter": "python",
   "pygments_lexer": "ipython3",
   "version": "3.6.8"
  }
 },
 "nbformat": 4,
 "nbformat_minor": 2
}
