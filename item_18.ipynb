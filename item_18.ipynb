{
 "cells": [
  {
   "cell_type": "code",
   "execution_count": 1,
   "metadata": {},
   "outputs": [],
   "source": [
    "import numpy as np\n",
    "import scipy.sparse"
   ]
  },
  {
   "cell_type": "markdown",
   "metadata": {},
   "source": [
    "# Item XVIII"
   ]
  },
  {
   "cell_type": "markdown",
   "metadata": {},
   "source": [
    "Let $A_n$:\n",
    "$$\n",
    "A_n = \n",
    "\\begin{bmatrix}\n",
    "1 & -2 &  0 & \\dots & 0 \\\\\n",
    "0 &  1 & -2 & 0 & \\dots \\\\\n",
    "\\vdots & \\ddots & \\ddots & \\ddots & \\vdots \\\\\n",
    "\\vdots & \\ddots & 0 & 1 & -2 \\\\\n",
    "0 & \\dots & \\dots & 0 & 1\n",
    "\\end{bmatrix} \\in \\mathbb{R}^{n \\times n}\n",
    "$$\n",
    "* Determine $A_n^{-1}$\n",
    "* Determine $\\kappa_\\infty(A_n) = ||A_n||_\\infty ||A_n^{-1}||_\\infty$.\n",
    "* Solve the largest linear system of equations you can solve in 1 minute with the solution $x$ equal to $-1_n + U (-\\delta,\\delta)$ using Backward Substitution for $\\delta =10^{-14}$. Notice, after you generate $x$ you need to find the RHS and then solve it, hopefully, coming back to the solution you defined previously. Did you recover the solution? \n",
    "---"
   ]
  },
  {
   "cell_type": "markdown",
   "metadata": {},
   "source": [
    "### Item A\n",
    "We can write $A_n = I + R$ where \n",
    "$$\n",
    "R = [r_{ij}]_{i \\in \\{1..n\\}\\\\j \\in \\{1..n\\}} \\text{ where } r_{ij} =\n",
    "\\begin{cases}\n",
    "-2 & \\text{if $j=i+1$} \\\\\n",
    "0 &  \\text{otherwise}\n",
    "\\end{cases}\n",
    "$$\n",
    "We can see that:\n",
    "$$\n",
    "R^k = \\left[r^{(k)}_{ij}\\right]_{i \\in \\{1..n\\} \\\\ j \\in \\{1..n\\}} \\text{ where } r_{ij} =\n",
    "\\begin{cases}\n",
    "(-2)^k & \\text{if $j=i+k$} \\\\\n",
    "0 &  \\text{otherwise}\n",
    "\\end{cases}\n",
    "$$\n",
    "\n",
    "And we make use of the identity [1]:\n",
    "$$\n",
    "(I + R)^{-1} = I + \\sum_{k=1}^{n-1} (-1)^k R^{k}\n",
    "$$\n",
    "\n",
    "And thus we have:\n",
    "\\begin{align}\n",
    "A_n^{-1} &= \\begin{bmatrix}\n",
    "1 & 2 & 4 & 8 & 16 & \\dots & \\\\\n",
    "0 & 1 & 2 & 4 & 8 & \\dots & \\\\\n",
    "\\vdots & \\ddots & \\ddots & \\ddots & \\ddots \\\\\n",
    "0 & \\dots & \\dots & \\dots & \\dots & 1 \\\\\n",
    "\\end{bmatrix}\n",
    "\\\\&= [a^{(-1)}_{ij}]_{i \\in \\{1..n\\}\\\\ j \\in \\{1..n\\}} \\text{ where } a^{(-1)}_{ij} =\n",
    "\\begin{cases}\n",
    "2^{j-i} & \\text{if $j \\geq i$} \\\\\n",
    "0 & \\text{otherwise}\n",
    "\\end{cases}\n",
    "\\end{align}"
   ]
  },
  {
   "cell_type": "markdown",
   "metadata": {},
   "source": [
    "### Item B\n",
    "\n",
    "The definition of the norm $||A||_\\infty$ is:\n",
    "$$\n",
    "\\sup_x \\frac{||Ax||_\\infty}{||x||_\\infty}\n",
    "$$\n",
    "In order to calculate $||A||_\\infty$, let $w$ be the vector so that:\n",
    "$$\n",
    "\\sup_x \\frac{||Ax||_\\infty}{||x||_\\infty} = \\frac{||Aw||_\\infty}{||w||_\\infty} \\quad \\wedge \\quad ||w||_\\infty=1\n",
    "$$\n",
    "We have that\n",
    "$$\n",
    "||Aw||_\\infty = \\max\\left(\\max(w_i -2 w_{i+1} )_{i \\in \\{1..n{-}1\\}},w_{n}\\right)\n",
    "$$\n",
    "this can be maximized when $w_i=1$ and $w_{i+1}=-1$ for any $i<n$.\n",
    "\n",
    "So, we can pick the vector:\n",
    "$$\n",
    "w = [1,-1,0,\\dots,0]\n",
    "$$\n",
    "that follows the conditions.\n",
    "\n",
    "And we have that $\\frac{||Aw||_\\infty}{||w||_\\infty} = ||A||_\\infty = 3$.\n",
    "\n",
    "\n",
    "For $||A^{-1}_n||$ we can see that the first component of $Aw$ will have the largest absolute value if each $w_i$ has the same sign (as $||A^{-1}_n w||$ would be smaller if this doesn't hold), so we pick $w = [1,1,1,\\dots,1]$, as it maximizes:\n",
    "$$\n",
    "||Aw||_\\infty = \\sum_{k=0}^{n-1} 2^k w_i\n",
    "$$\n",
    "while ensuring $||w||_\\infty=1$.\n",
    "\n",
    "This results in\n",
    "$$\n",
    "||A^{-1}_n w|| = \\sum_{k=0}^{n-1} 2^k w_i = \\sum_{k=0}^{n-1} 2^k = 2^n-1 = ||A^{-1}_n|| \\,.\n",
    "$$\n",
    "\n",
    "Finally $\\kappa_\\infty(A_n) = ||A_n||_\\infty ||A_n^{-1}||_\\infty = 3 \\cdot (2^{n}-1)$"
   ]
  },
  {
   "cell_type": "markdown",
   "metadata": {},
   "source": [
    "### Item C\n",
    "\n",
    "Assuming a general implementation of backward sustitution is requested (it will be more efficient to just work with the cells on the extended diagonal)."
   ]
  },
  {
   "cell_type": "code",
   "execution_count": 2,
   "metadata": {},
   "outputs": [],
   "source": [
    "def problem(n,theta=1e-14):\n",
    "    sol = -1.0+(2*np.random.random(n)-1.0)*theta\n",
    "    matrix_a = scipy.sparse.eye(n,dtype='int',format=\"lil\")\n",
    "    j_s = range(1,n)\n",
    "    i_s = range(0,n-1)\n",
    "    matrix_a[(i_s,j_s)] = -2\n",
    "    return matrix_a,sol"
   ]
  },
  {
   "cell_type": "code",
   "execution_count": 3,
   "metadata": {},
   "outputs": [],
   "source": [
    "def backward_subs(matrix,b):\n",
    "    n = matrix.shape[0]\n",
    "    xs = np.zeros(n)\n",
    "    for i in range(n-1,-1,-1):\n",
    "        col = matrix[i,i+1:].toarray()\n",
    "        xs[i] = b[i] - np.sum(xs[i+1:]*col)\n",
    "        xs[i] /= matrix[i,i]\n",
    "    return xs"
   ]
  },
  {
   "cell_type": "code",
   "execution_count": 4,
   "metadata": {},
   "outputs": [
    {
     "name": "stdout",
     "output_type": "stream",
     "text": [
      "  (0, 0)\t1\n",
      "  (0, 1)\t-2\n",
      "  (1, 1)\t1\n",
      "  (1, 2)\t-2\n",
      "  (2, 2)\t1\n",
      "  (2, 3)\t-2\n",
      "  (3, 3)\t1\n",
      "  (3, 4)\t-2\n",
      "  (4, 4)\t1\n",
      "  (4, 5)\t-2\n",
      "  (5, 5)\t1\n",
      "  (5, 6)\t-2\n",
      "  (6, 6)\t1\n",
      "  (6, 7)\t-2\n",
      "  (7, 7)\t1\n",
      "  (7, 8)\t-2\n",
      "  (8, 8)\t1\n",
      "  (8, 9)\t-2\n",
      "  (9, 9)\t1\n",
      "  (0, 0)\t-2\n",
      "[-1. -1. -1. -1. -1. -1. -1. -1. -1. -1.]\n"
     ]
    }
   ],
   "source": [
    "aa,bb = problem(10)\n",
    "print(aa)\n",
    "print(np.array(aa[2,3:]))\n",
    "print(bb)"
   ]
  },
  {
   "cell_type": "code",
   "execution_count": 5,
   "metadata": {},
   "outputs": [
    {
     "name": "stdout",
     "output_type": "stream",
     "text": [
      "bb\n",
      "[-1. -1. -1. -1. -1. -1. -1. -1. -1. -1.]\n",
      "recovered_bb\n",
      "[-1. -1. -1. -1. -1. -1. -1. -1. -1. -1.]\n"
     ]
    }
   ],
   "source": [
    "xx = backward_subs(aa,bb)\n",
    "recovered_bb = aa.dot(xx)\n",
    "print(\"bb\")\n",
    "print(bb)\n",
    "print(\"recovered_bb\")\n",
    "print(recovered_bb)"
   ]
  },
  {
   "cell_type": "markdown",
   "metadata": {},
   "source": [
    "We generate problems up to $n=100$. Larger problems weren't generated because the powers of 2 do overflow (altough we could make problems of a size large enough to that the Backpropagation takes 1min, some of the values on it will be $\\text{nan}$."
   ]
  },
  {
   "cell_type": "code",
   "execution_count": 15,
   "metadata": {},
   "outputs": [
    {
     "name": "stdout",
     "output_type": "stream",
     "text": [
      "Backward substitution on size 10:\n",
      "CPU times: user 2.11 ms, sys: 0 ns, total: 2.11 ms\n",
      "Wall time: 2.12 ms\n",
      "Backward substitution on size 100:\n",
      "CPU times: user 9.78 ms, sys: 0 ns, total: 9.78 ms\n",
      "Wall time: 9.57 ms\n",
      "Backward substitution on size 1000:\n",
      "CPU times: user 96 ms, sys: 66 µs, total: 96.1 ms\n",
      "Wall time: 89.4 ms\n"
     ]
    }
   ],
   "source": [
    "# Now generate larger problem\n",
    "SIZES = [10,100,1000]\n",
    "AAs = {}\n",
    "BBs = {}\n",
    "XXs = {}\n",
    "\n",
    "for siz in SIZES:\n",
    "    print(\"Backward substitution on size %d:\"%siz)\n",
    "    aa,bb = problem(siz)\n",
    "    AAs[siz] = aa\n",
    "    BBs[siz] = bb\n",
    "    %time xx = backward_subs(aa,bb)\n",
    "    XXs[siz] = xx"
   ]
  },
  {
   "cell_type": "code",
   "execution_count": 22,
   "metadata": {
    "scrolled": false
   },
   "outputs": [
    {
     "name": "stdout",
     "output_type": "stream",
     "text": [
      "For n=10\n",
      "    bb\n",
      "[-1. -1. -1. -1. -1. -1. -1. -1. -1. -1.]\n",
      "    Max error: 0.000000\n",
      "For n=100\n",
      "    bb\n",
      "[ 0.  0.  0.  0.  0.  0.  0.  0.  0.  0.  0.  0.  0.  0.  0.  0.  0.  0.\n",
      "  0.  0.  0.  0.  0.  0.  0.  0.  0.  0.  0.  0.  0.  0.  0.  0.  0.  0.\n",
      "  0.  0.  0.  0.  0.  0.  0.  0.  0.  0. -2. -1. -1. -1. -1. -1. -1. -1.\n",
      " -1. -1. -1. -1. -1. -1. -1. -1. -1. -1. -1. -1. -1. -1. -1. -1. -1. -1.\n",
      " -1. -1. -1. -1. -1. -1. -1. -1. -1. -1. -1. -1. -1. -1. -1. -1. -1. -1.\n",
      " -1. -1. -1. -1. -1. -1. -1. -1. -1. -1.]\n",
      "    Max error: 1.000000\n",
      "For n=1000\n",
      "    bb\n",
      "[ 0.  0.  0.  0.  0.  0.  0.  0.  0.  0.  0.  0.  0.  0.  0.  0.  0.  0.\n",
      "  0.  0.  0.  0.  0.  0.  0.  0.  0.  0.  0.  0.  0.  0.  0.  0.  0.  0.\n",
      "  0.  0.  0.  0.  0.  0.  0.  0.  0.  0.  0.  0.  0.  0.  0.  0.  0.  0.\n",
      "  0.  0.  0.  0.  0.  0.  0.  0.  0.  0.  0.  0.  0.  0.  0.  0.  0.  0.\n",
      "  0.  0.  0.  0.  0.  0.  0.  0.  0.  0.  0.  0.  0.  0.  0.  0.  0.  0.\n",
      "  0.  0.  0.  0.  0.  0.  0.  0.  0.  0.  0.  0.  0.  0.  0.  0.  0.  0.\n",
      "  0.  0.  0.  0.  0.  0.  0.  0.  0.  0.  0.  0.  0.  0.  0.  0.  0.  0.\n",
      "  0.  0.  0.  0.  0.  0.  0.  0.  0.  0.  0.  0.  0.  0.  0.  0.  0.  0.\n",
      "  0.  0.  0.  0.  0.  0.  0.  0.  0.  0.  0.  0.  0.  0.  0.  0.  0.  0.\n",
      "  0.  0.  0.  0.  0.  0.  0.  0.  0.  0.  0.  0.  0.  0.  0.  0.  0.  0.\n",
      "  0.  0.  0.  0.  0.  0.  0.  0.  0.  0.  0.  0.  0.  0.  0.  0.  0.  0.\n",
      "  0.  0.  0.  0.  0.  0.  0.  0.  0.  0.  0.  0.  0.  0.  0.  0.  0.  0.\n",
      "  0.  0.  0.  0.  0.  0.  0.  0.  0.  0.  0.  0.  0.  0.  0.  0.  0.  0.\n",
      "  0.  0.  0.  0.  0.  0.  0.  0.  0.  0.  0.  0.  0.  0.  0.  0.  0.  0.\n",
      "  0.  0.  0.  0.  0.  0.  0.  0.  0.  0.  0.  0.  0.  0.  0.  0.  0.  0.\n",
      "  0.  0.  0.  0.  0.  0.  0.  0.  0.  0.  0.  0.  0.  0.  0.  0.  0.  0.\n",
      "  0.  0.  0.  0.  0.  0.  0.  0.  0.  0.  0.  0.  0.  0.  0.  0.  0.  0.\n",
      "  0.  0.  0.  0.  0.  0.  0.  0.  0.  0.  0.  0.  0.  0.  0.  0.  0.  0.\n",
      "  0.  0.  0.  0.  0.  0.  0.  0.  0.  0.  0.  0.  0.  0.  0.  0.  0.  0.\n",
      "  0.  0.  0.  0.  0.  0.  0.  0.  0.  0.  0.  0.  0.  0.  0.  0.  0.  0.\n",
      "  0.  0.  0.  0.  0.  0.  0.  0.  0.  0.  0.  0.  0.  0.  0.  0.  0.  0.\n",
      "  0.  0.  0.  0.  0.  0.  0.  0.  0.  0.  0.  0.  0.  0.  0.  0.  0.  0.\n",
      "  0.  0.  0.  0.  0.  0.  0.  0.  0.  0.  0.  0.  0.  0.  0.  0.  0.  0.\n",
      "  0.  0.  0.  0.  0.  0.  0.  0.  0.  0.  0.  0.  0.  0.  0.  0.  0.  0.\n",
      "  0.  0.  0.  0.  0.  0.  0.  0.  0.  0.  0.  0.  0.  0.  0.  0.  0.  0.\n",
      "  0.  0.  0.  0.  0.  0.  0.  0.  0.  0.  0.  0.  0.  0.  0.  0.  0.  0.\n",
      "  0.  0.  0.  0.  0.  0.  0.  0.  0.  0.  0.  0.  0.  0.  0.  0.  0.  0.\n",
      "  0.  0.  0.  0.  0.  0.  0.  0.  0.  0.  0.  0.  0.  0.  0.  0.  0.  0.\n",
      "  0.  0.  0.  0.  0.  0.  0.  0.  0.  0.  0.  0.  0.  0.  0.  0.  0.  0.\n",
      "  0.  0.  0.  0.  0.  0.  0.  0.  0.  0.  0.  0.  0.  0.  0.  0.  0.  0.\n",
      "  0.  0.  0.  0.  0.  0.  0.  0.  0.  0.  0.  0.  0.  0.  0.  0.  0.  0.\n",
      "  0.  0.  0.  0.  0.  0.  0.  0.  0.  0.  0.  0.  0.  0.  0.  0.  0.  0.\n",
      "  0.  0.  0.  0.  0.  0.  0.  0.  0.  0.  0.  0.  0.  0.  0.  0.  0.  0.\n",
      "  0.  0.  0.  0.  0.  0.  0.  0.  0.  0.  0.  0.  0.  0.  0.  0.  0.  0.\n",
      "  0.  0.  0.  0.  0.  0.  0.  0.  0.  0.  0.  0.  0.  0.  0.  0.  0.  0.\n",
      "  0.  0.  0.  0.  0.  0.  0.  0.  0.  0.  0.  0.  0.  0.  0.  0.  0.  0.\n",
      "  0.  0.  0.  0.  0.  0.  0.  0.  0.  0.  0.  0.  0.  0.  0.  0.  0.  0.\n",
      "  0.  0.  0.  0.  0.  0.  0.  0.  0.  0.  0.  0.  0.  0.  0.  0.  0.  0.\n",
      "  0.  0.  0.  0.  0.  0.  0.  0.  0.  0.  0.  0.  0.  0.  0.  0.  0.  0.\n",
      "  0.  0.  0.  0.  0.  0.  0.  0.  0.  0.  0.  0.  0.  0.  0.  0.  0.  0.\n",
      "  0.  0.  0.  0.  0.  0.  0.  0.  0.  0.  0.  0.  0.  0.  0.  0.  0.  0.\n",
      "  0.  0.  0.  0.  0.  0.  0.  0.  0.  0.  0.  0.  0.  0.  0.  0.  0.  0.\n",
      "  0.  0.  0.  0.  0.  0.  0.  0.  0.  0.  0.  0.  0.  0.  0.  0.  0.  0.\n",
      "  0.  0.  0.  0.  0.  0.  0.  0.  0.  0.  0.  0.  0.  0.  0.  0.  0.  0.\n",
      "  0.  0.  0.  0.  0.  0.  0.  0.  0.  0.  0.  0.  0.  0.  0.  0.  0.  0.\n",
      "  0.  0.  0.  0.  0.  0.  0.  0.  0.  0.  0.  0.  0.  0.  0.  0.  0.  0.\n",
      "  0.  0.  0.  0.  0.  0.  0.  0.  0.  0.  0.  0.  0.  0.  0.  0.  0.  0.\n",
      "  0.  0.  0.  0.  0.  0.  0.  0.  0.  0.  0.  0.  0.  0.  0.  0.  0.  0.\n",
      "  0.  0.  0.  0.  0.  0.  0.  0.  0.  0.  0.  0.  0.  0.  0.  0.  0.  0.\n",
      "  0.  0.  0.  0.  0.  0.  0.  0.  0.  0.  0.  0.  0.  0.  0.  0.  0.  0.\n",
      "  0.  0.  0.  0.  0.  0.  0.  0.  0.  0.  0.  0.  0.  0.  0.  0.  0.  0.\n",
      "  0.  0.  0.  0.  0.  0.  0.  0.  0.  0.  0.  0.  0.  0.  0.  0.  0.  0.\n",
      "  0.  0.  0.  0.  0.  0.  0.  0.  0.  0.  0. -1. -1. -1. -1. -1. -1. -1.\n",
      " -1. -1. -1. -1. -1. -1. -1. -1. -1. -1. -1. -1. -1. -1. -1. -1. -1. -1.\n",
      " -1. -1. -1. -1. -1. -1. -1. -1. -1. -1. -1. -1. -1. -1. -1. -1. -1. -1.\n",
      " -1. -1. -1. -1. -1. -1. -1. -1. -1. -1.]\n",
      "    Max error: 1.000000\n"
     ]
    }
   ],
   "source": [
    "for siz in SIZES:\n",
    "    aa = AAs[siz]\n",
    "    bb = BBs[siz]\n",
    "    xx = XXs[siz]\n",
    "    recovered_bb = aa.dot(xx)\n",
    "    print(\"For n=%d\"%siz)\n",
    "    print(\"    bb\")\n",
    "    print(recovered_bb)\n",
    "    print(\"    Max error: %f\"%(np.max(np.abs(recovered_bb-bb))))"
   ]
  },
  {
   "cell_type": "markdown",
   "metadata": {},
   "source": [
    "We can se that the recovered $b$ only has value $-1$ in the last components, and the previous ones cannot be reconstructed. It can also be seen that $10^{-14}$ is a variation too small and it's absorved by the $-1$."
   ]
  },
  {
   "cell_type": "markdown",
   "metadata": {},
   "source": [
    "### References\n",
    "\n",
    "* [1] https://math.stackexchange.com/a/47554"
   ]
  },
  {
   "cell_type": "code",
   "execution_count": null,
   "metadata": {},
   "outputs": [],
   "source": []
  }
 ],
 "metadata": {
  "kernelspec": {
   "display_name": "Python 3",
   "language": "python",
   "name": "python3"
  },
  "language_info": {
   "codemirror_mode": {
    "name": "ipython",
    "version": 3
   },
   "file_extension": ".py",
   "mimetype": "text/x-python",
   "name": "python",
   "nbconvert_exporter": "python",
   "pygments_lexer": "ipython3",
   "version": "3.6.8"
  }
 },
 "nbformat": 4,
 "nbformat_minor": 2
}
