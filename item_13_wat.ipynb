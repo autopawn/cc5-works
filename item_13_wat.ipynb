{
 "cells": [
  {
   "cell_type": "code",
   "execution_count": 1,
   "metadata": {},
   "outputs": [],
   "source": [
    "import numpy as np"
   ]
  },
  {
   "cell_type": "markdown",
   "metadata": {},
   "source": [
    "# Item XIII\n",
    "Let $\\gamma$ be a positively oriented circular path with center $0$ at radious $\\alpha >2$, compute the following:\n",
    "* $\\int_{\\gamma} \\frac{\\exp(z)}{z} \\partial z = 2\\pi i$\n",
    "* $\\int_{\\gamma} \\frac{\\exp(z)}{z(z-1)} \\partial z = 2\\pi i e$\n",
    "* $\\int_{\\gamma} \\frac{\\exp(z)}{z^3} \\partial z = \\pi i$\n",
    "\n",
    "\\* **Note**: It seems that the exercises aren't correct.\n",
    "\n",
    "---"
   ]
  },
  {
   "cell_type": "markdown",
   "metadata": {},
   "source": [
    "We make use of the definition of the line integral:\n",
    "$$\n",
    "\\int_{\\mathcal {C}}f(\\mathbf {r} )\\,ds=\\int _{a}^{b}f\\left(\\mathbf {r} (t)\\right)|\\mathbf {r} '(t)|\\,dt.\n",
    "$$\n",
    "In particular, if the curve is a circunference of radious $r$ we can parametrize over the angle $\\theta$:\n",
    "$$\n",
    "\\int_{0}^{2\\pi} f\\left(\\, (r \\cos(\\theta), r \\sin(\\theta))\\, \\right) \\, r \\, \\partial \\theta\n",
    "$$\n",
    "In particular, if the axis $Y$ is for imaginary numbers:\n",
    "$$\n",
    "\\int_{0}^{2\\pi} f\\left( r \\cos(\\theta) + r \\sin(\\theta) i \\right) \\, r \\, \\partial \\theta\n",
    "$$\n",
    "Using cuadrature:\n",
    "$$\n",
    " \\frac{2 \\pi}{n} \\sum_{i=0}^{n-1} f (r \\cos(\\theta_i)+ r \\sin(\\theta_i) i ) \\, r\n",
    "$$"
   ]
  },
  {
   "cell_type": "code",
   "execution_count": 45,
   "metadata": {},
   "outputs": [],
   "source": [
    "# Define the integral approximated as a Riemman sum (not the best way but the easiest).\n",
    "def circle_integral(fn,rad,imaginary_y=False,vectorized=False,n=300):\n",
    "    ts = np.linspace(0,2*np.pi,num=n,endpoint=False)\n",
    "    \n",
    "    xs = rad*np.cos(ts)\n",
    "    ys = rad*np.sin(ts)\n",
    "        \n",
    "    if imaginary_y:\n",
    "        if vectorized:\n",
    "            fs = fn(xs+ys*1j)\n",
    "        else:\n",
    "            fs = [fn(x+y*1j) for x,y in zip(xs,ys)]\n",
    "    else:\n",
    "        if vectorized:\n",
    "            fs = fn(xs,ys)\n",
    "        else:\n",
    "            fs = [fn(x,y) for x,y in zip(xs,ys)]\n",
    "    \n",
    "    return (2*np.pi/n)*rad*np.sum(fs)"
   ]
  },
  {
   "cell_type": "markdown",
   "metadata": {},
   "source": [
    "We compute the intergrals. In order to get the asked results we should consider circular paths where the component Y is imaginary:"
   ]
  },
  {
   "cell_type": "code",
   "execution_count": 46,
   "metadata": {},
   "outputs": [
    {
     "name": "stdout",
     "output_type": "stream",
     "text": [
      "item1:\n",
      "\talpha=2.50:\n",
      "\t\tfun_eval:(15.707963267948958+1.4881572258170162e-15j)\n",
      "\t\tval_eval:6.283185307179586j\n",
      "\talpha=3.00:\n",
      "\t\tfun_eval:(18.84955592153874+0j)\n",
      "\t\tval_eval:6.283185307179586j\n",
      "\talpha=3.50:\n",
      "\t\tfun_eval:(21.99114857512853+0j)\n",
      "\t\tval_eval:6.283185307179586j\n",
      "\talpha=4.00:\n",
      "\t\tfun_eval:(25.13274122871831+0j)\n",
      "\t\tval_eval:6.283185307179586j\n",
      "\talpha=4.50:\n",
      "\t\tfun_eval:(28.27433388230807+2.1429464051765032e-14j)\n",
      "\t\tval_eval:6.283185307179586j\n",
      "\talpha=5.00:\n",
      "\t\tfun_eval:(31.41592653589782+1.7857886709804195e-14j)\n",
      "\t\tval_eval:6.283185307179586j\n",
      "\talpha=5.50:\n",
      "\t\tfun_eval:(34.55751918948754+5.238313434875897e-14j)\n",
      "\t\tval_eval:6.283185307179586j\n",
      "\talpha=6.00:\n",
      "\t\tfun_eval:(37.69911184307722+4.2858928103530065e-14j)\n",
      "\t\tval_eval:6.283185307179586j\n",
      "item2:\n",
      "\talpha=2.50:\n",
      "\t\tfun_eval:(11.282744577469899+9.300982661356351e-17j)\n",
      "\t\tval_eval:17.079468445347132j\n",
      "\talpha=3.00:\n",
      "\t\tfun_eval:(13.539293492963875-2.232235838725524e-16j)\n",
      "\t\tval_eval:17.079468445347132j\n",
      "\talpha=3.50:\n",
      "\t\tfun_eval:(15.795842408457855+0j)\n",
      "\t\tval_eval:17.079468445347132j\n",
      "\talpha=4.00:\n",
      "\t\tfun_eval:(18.05239132395183+1.1905257806536129e-15j)\n",
      "\t\tval_eval:17.079468445347132j\n",
      "\talpha=4.50:\n",
      "\t\tfun_eval:(20.308940239445807+1.3393415032353145e-15j)\n",
      "\t\tval_eval:17.079468445347132j\n",
      "\talpha=5.00:\n",
      "\t\tfun_eval:(22.56548915493978+1.4881572258170162e-15j)\n",
      "\t\tval_eval:17.079468445347132j\n",
      "\talpha=5.50:\n",
      "\t\tfun_eval:(24.822038070433745+3.2739458967974356e-15j)\n",
      "\t\tval_eval:17.079468445347132j\n",
      "\talpha=6.00:\n",
      "\t\tfun_eval:(27.078586985927707+3.5715773419608385e-15j)\n",
      "\t\tval_eval:17.079468445347132j\n",
      "item3:\n",
      "\talpha=2.50:\n",
      "\t\tfun_eval:(2.617993877991493-9.300982661356351e-17j)\n",
      "\t\tval_eval:3.141592653589793j\n",
      "\talpha=3.00:\n",
      "\t\tfun_eval:(3.1415926535897913-2.790294798406905e-17j)\n",
      "\t\tval_eval:3.141592653589793j\n",
      "\talpha=3.50:\n",
      "\t\tfun_eval:(3.6651914291880905+8.138359828686807e-17j)\n",
      "\t\tval_eval:3.141592653589793j\n",
      "\talpha=4.00:\n",
      "\t\tfun_eval:(4.188790204786389+0j)\n",
      "\t\tval_eval:3.141592653589793j\n",
      "\talpha=4.50:\n",
      "\t\tfun_eval:(4.712388980384687+5.022530637132429e-16j)\n",
      "\t\tval_eval:3.141592653589793j\n",
      "\talpha=5.00:\n",
      "\t\tfun_eval:(5.2359877559829835+7.440786129085081e-16j)\n",
      "\t\tval_eval:3.141592653589793j\n",
      "\talpha=5.50:\n",
      "\t\tfun_eval:(5.759586531581283+0j)\n",
      "\t\tval_eval:3.141592653589793j\n",
      "\talpha=6.00:\n",
      "\t\tfun_eval:(6.283185307179578+1.3393415032353145e-15j)\n",
      "\t\tval_eval:3.141592653589793j\n"
     ]
    }
   ],
   "source": [
    "functions = [\n",
    "    (\"item1\", lambda z: np.exp(z)/z,         lambda a: 2*np.pi*1j),\n",
    "    (\"item2\", lambda z: np.exp(z)/(z*(z-1)), lambda a: 2*np.pi*1j*np.e),\n",
    "    (\"item3\", lambda z: np.exp(z)/z**3,      lambda a: np.pi*1j),\n",
    "]\n",
    "\n",
    "for name,fun,val in functions:\n",
    "    print(name+\":\")\n",
    "    for alpha in np.arange(2.5,6.01,0.5):\n",
    "        fun_eval = circle_integral(fun,alpha,imaginary_y=True,vectorized=True)\n",
    "        val_eval = val(alpha)\n",
    "        print(\"\\talpha=%4.2f:\"%alpha)\n",
    "        print(\"\\t\\tfun_eval:%s\"%fun_eval)\n",
    "        print(\"\\t\\tval_eval:%s\"%val_eval)"
   ]
  },
  {
   "cell_type": "markdown",
   "metadata": {},
   "source": [
    "It can be seen that the results aren't the same."
   ]
  },
  {
   "cell_type": "code",
   "execution_count": null,
   "metadata": {},
   "outputs": [],
   "source": []
  }
 ],
 "metadata": {
  "kernelspec": {
   "display_name": "Python 3",
   "language": "python",
   "name": "python3"
  },
  "language_info": {
   "codemirror_mode": {
    "name": "ipython",
    "version": 3
   },
   "file_extension": ".py",
   "mimetype": "text/x-python",
   "name": "python",
   "nbconvert_exporter": "python",
   "pygments_lexer": "ipython3",
   "version": "3.6.8"
  }
 },
 "nbformat": 4,
 "nbformat_minor": 2
}
