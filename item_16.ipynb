{
 "cells": [
  {
   "cell_type": "code",
   "execution_count": 18,
   "metadata": {},
   "outputs": [],
   "source": [
    "import numpy as np\n",
    "import time\n",
    "import matplotlib.pyplot as plt \n",
    "from sklearn import linear_model"
   ]
  },
  {
   "cell_type": "markdown",
   "metadata": {},
   "source": [
    "---\n",
    "\n",
    "# Item XVI\n",
    "\n",
    "Let $f(x) = \\sum_{i=1}^n \\alpha_i \\text{sinc}(x-x_i)$ where $\\text{sinc}(x) = \\frac{\\sin(x)}{x}$. Compute the total number of operations needed for evaluation of $f(x)$ at $x_j$, for $j=1 \\dots n$. Also implement this algorithm and validate your estimation.\n",
    "\n",
    "---\n",
    "\n",
    "The first observation is that $\\text{sinc}(x-x_i)$ should be defined as $\\text{sinc}(0)=1$ when $x=x_i$. In this case, it's not necessary to compute one of the $\\sin$'s nor the division.\n",
    "\n",
    "So, for evaluating the function on a particular point $x$, the amount of $\\sin$ that have to be calculated is $n$, but if $x=x_j$ for some $j$, then $n{-}1$ $\\sin$ have to be calculated. The same goes for the amount of divisions by $x-x_j$, substractions to get $x-x_j$, multiplications by $a_j$ and $n-1$ sums to get the final amount.\n",
    "\n",
    "| Operation | Times performed | Total ops. |\n",
    "|:------| -----:| ---: |\n",
    "| compute $x-x_j$  | $n$ | $n$ |\n",
    "| compute $\\sin(x-x_j)$ | $n-1$ | $(n-1)C$ |\n",
    "| divide $\\sin(x-x_j)$ by $x-x_j$ | $n-1$ | $n-1$ |\n",
    "| multiply by $a_i$ | $n-1$ | $n-1$ |\n",
    "| sum over $i$ | $n-1$ | $n-1$ |\n",
    "\n",
    "This results in $4n-3+C(n-1)$ operations for each $f(x_j)$, if we compute add the operations required to compute all of them, we will end with $n(4n-3+C(n-1)) = O(n^2)$ where $C$ is the cost of computing a $\\sin$.\n",
    "\n",
    "Of course, additional optimizations could be done if some relations between the $x_j$ hold."
   ]
  },
  {
   "cell_type": "code",
   "execution_count": 45,
   "metadata": {},
   "outputs": [],
   "source": [
    "def sinc_sum(xs,alphas):\n",
    "    n = len(xs)\n",
    "    def loc_func(x):\n",
    "        delta_xs = x-xs\n",
    "        sinc = np.ones(n)\n",
    "        sinc[delta_xs!=0] = np.sin(delta_xs[delta_xs!=0])/delta_xs[delta_xs!=0]\n",
    "        return np.sum(alphas*sinc)\n",
    "    return loc_func"
   ]
  },
  {
   "cell_type": "code",
   "execution_count": 48,
   "metadata": {},
   "outputs": [],
   "source": [
    "N = np.logspace(1,4.4,num=30,dtype='int') # from 10 to ~25000\n",
    "ts = []\n",
    "for n in N:\n",
    "    xsi = np.random.random(n)\n",
    "    asi = np.random.random(n)\n",
    "    f = sinc_sum(xsi,asi)\n",
    "    start = time.time()\n",
    "    f_evals = [f(x) for x in xsi]\n",
    "    end = time.time()\n",
    "    ts.append(end-start)\n",
    "ts = np.array(ts)"
   ]
  },
  {
   "cell_type": "code",
   "execution_count": 49,
   "metadata": {},
   "outputs": [
    {
     "data": {
      "image/png": "[encoded data removed]",
      "text/plain": [
       "<Figure size 432x288 with 1 Axes>"
      ]
     },
     "metadata": {
      "needs_background": "light"
     },
     "output_type": "display_data"
    }
   ],
   "source": [
    "plt.plot(N,ts,'o-')\n",
    "plt.grid(True)\n",
    "plt.show()"
   ]
  },
  {
   "cell_type": "markdown",
   "metadata": {},
   "source": [
    "We perform a linear regression with the last points, in logarithmic scale"
   ]
  },
  {
   "cell_type": "code",
   "execution_count": 50,
   "metadata": {},
   "outputs": [
    {
     "data": {
      "text/plain": [
       "<matplotlib.legend.Legend at 0x7f4057721c88>"
      ]
     },
     "execution_count": 50,
     "metadata": {},
     "output_type": "execute_result"
    },
    {
     "data": {
      "image/png": "[encoded data removed]",
      "text/plain": [
       "<Figure size 432x288 with 1 Axes>"
      ]
     },
     "metadata": {
      "needs_background": "light"
     },
     "output_type": "display_data"
    }
   ],
   "source": [
    "regr = linear_model.LinearRegression()\n",
    "start = len(N)//2\n",
    "logN = np.log(N.reshape((-1,1)))\n",
    "logt = np.log(ts.reshape((-1,1)))\n",
    "regr.fit(logN[start:],logt[start:])\n",
    "# Check predictions:\n",
    "res = np.exp(regr.predict(logN))\n",
    "plt.loglog(N,res,label=\"fit\")\n",
    "plt.loglog(N,ts,label=\"real times\")\n",
    "plt.legend()"
   ]
  },
  {
   "cell_type": "code",
   "execution_count": 52,
   "metadata": {},
   "outputs": [
    {
     "name": "stdout",
     "output_type": "stream",
     "text": [
      "regr. coef     : 1.794841\n",
      "regr. intercept: -15.550982\n"
     ]
    }
   ],
   "source": [
    "print(\"regr. coef     : %f\"%regr.coef_)\n",
    "print(\"regr. intercept: %f\"%regr.intercept_)"
   ]
  },
  {
   "cell_type": "markdown",
   "metadata": {},
   "source": [
    "We can see that the resulting fit was:\n",
    "\n",
    "\\begin{align}\n",
    "\\log(t) &= 1.794841 \\log(n) -15.550982 \\\\\n",
    "t &= e^{1.794841 \\log(n) -15.550982} \\\\\n",
    "t &= 1.76\\cdot10^{-7} n^{1.794841} \n",
    "\\end{align}\n",
    "\n",
    "Which is somewhat near the $O(n^2)$ expected."
   ]
  },
  {
   "cell_type": "code",
   "execution_count": null,
   "metadata": {},
   "outputs": [],
   "source": []
  }
 ],
 "metadata": {
  "kernelspec": {
   "display_name": "Python 3",
   "language": "python",
   "name": "python3"
  },
  "language_info": {
   "codemirror_mode": {
    "name": "ipython",
    "version": 3
   },
   "file_extension": ".py",
   "mimetype": "text/x-python",
   "name": "python",
   "nbconvert_exporter": "python",
   "pygments_lexer": "ipython3",
   "version": "3.6.8"
  }
 },
 "nbformat": 4,
 "nbformat_minor": 2
}
