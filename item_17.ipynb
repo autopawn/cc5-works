{
 "cells": [
  {
   "cell_type": "code",
   "execution_count": 5,
   "metadata": {},
   "outputs": [],
   "source": [
    "import numpy as np"
   ]
  },
  {
   "cell_type": "markdown",
   "metadata": {},
   "source": [
    "# Item XVII\n",
    "\n",
    "Let $x_i= \\langle x_i,y_i \\rangle$, for $i=1:n$, a set of points that describe a simple polygon. Derive an algorithm that computes the area enclosed by it exactly.\n",
    "\n",
    "---"
   ]
  },
  {
   "cell_type": "markdown",
   "metadata": {},
   "source": [
    "$$\n",
    "\\newcommand{\\pa}{\\partial}\n",
    "$$ \n",
    "We consider the Green's theorem, that says:\n",
    "\n",
    "> Let $C$ be a positively oriented, piecewise smooth, simple closed curve in a plane, and let $D$ be the region bounded by $C$. If $L$ and $M$ are functions of $(x, y)$ defined on an open region containing $D$ and have continuous partial derivatives there, then: $$\n",
    "\\oint_C(L \\, \\pa x  + M \\, \\pa y) = \\iint_D\\left(\\frac{\\pa M}{\\pa x}-\\frac{\\pa L}{\\pa y}\\right) \\pa x \\pa y\n",
    "$$\n",
    "\n",
    "If we make\n",
    "$$\n",
    "\\frac{\\pa M}{\\pa x}-\\frac{\\pa L}{\\pa y} = 1 \\,,\n",
    "$$ e.g. by defining:\n",
    "$$\n",
    "M(x,y) = 0 \\qquad L(x,y) = -y\n",
    "$$\n",
    "this results in:\n",
    "$$\n",
    "-\\oint_C( y \\, \\pa x) = \\iint_D \\pa x \\pa y = \\text{Area.}\n",
    "$$\n",
    "\n",
    "$$\n",
    "-\\oint_C( y(x) \\, \\pa x) = - \\sum_{i=0}^{n-1} \\int_{x_{i-1}}^{x_i} y(x) \\pa x = \n",
    "- \\sum_{i=0}^{n-1} \\frac{1}{2} (y_{i}+y_{i-1})(x_i-x_{i-1})\n",
    "$$\n",
    "where we define $x_{-1}=x_{n-1}$.\n",
    "\n",
    "So, with the previous formula we can compute the area of the polygon."
   ]
  },
  {
   "cell_type": "code",
   "execution_count": 26,
   "metadata": {},
   "outputs": [],
   "source": [
    "def area(ps):\n",
    "    ps = np.array(ps)\n",
    "    assert(len(ps.shape)==2)\n",
    "    assert(ps.shape[1]==2)\n",
    "    n = ps.shape[0]\n",
    "    # get the points (add the first ones at the end again).\n",
    "    xs = ps[:,0]+ps[-1:,0]\n",
    "    ys = ps[:,1]+ps[-1:,1]\n",
    "    # for each segment, compute the integral\n",
    "    areas = (xs[1:]-xs[:-1])*(ys[1:]+ys[:-1])/2.0\n",
    "    # sum areas, retrieve abs (in case points are in inverse order).\n",
    "    return np.abs(np.sum(areas))"
   ]
  },
  {
   "cell_type": "code",
   "execution_count": 27,
   "metadata": {},
   "outputs": [
    {
     "data": {
      "text/plain": [
       "8.0"
      ]
     },
     "execution_count": 27,
     "metadata": {},
     "output_type": "execute_result"
    }
   ],
   "source": [
    "area([[1,1],[3,1],[5,2],[3,4],[1,3]])"
   ]
  },
  {
   "cell_type": "code",
   "execution_count": 28,
   "metadata": {},
   "outputs": [
    {
     "data": {
      "text/plain": [
       "20.0"
      ]
     },
     "execution_count": 28,
     "metadata": {},
     "output_type": "execute_result"
    }
   ],
   "source": [
    "area([[-3,3],[2,3],[2,-1],[-3,-1]])"
   ]
  },
  {
   "cell_type": "code",
   "execution_count": null,
   "metadata": {},
   "outputs": [],
   "source": []
  }
 ],
 "metadata": {
  "kernelspec": {
   "display_name": "Python 3",
   "language": "python",
   "name": "python3"
  },
  "language_info": {
   "codemirror_mode": {
    "name": "ipython",
    "version": 3
   },
   "file_extension": ".py",
   "mimetype": "text/x-python",
   "name": "python",
   "nbconvert_exporter": "python",
   "pygments_lexer": "ipython3",
   "version": "3.6.8"
  }
 },
 "nbformat": 4,
 "nbformat_minor": 2
}
