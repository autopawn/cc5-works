{
 "cells": [
  {
   "cell_type": "markdown",
   "metadata": {},
   "source": [
    "# Item I\n",
    "\n",
    "What is a..."
   ]
  },
  {
   "cell_type": "markdown",
   "metadata": {},
   "source": [
    "### a) Singular matrix\n",
    "\n",
    "A square matrix ($n\\times n$) $A$ is non-singular if there doesn't exist a square matrix ($n \\times n$) $B$ such that:\n",
    "$$\n",
    "BA = I_n \\, \\wedge \\, AB = I_n\n",
    "$$\n",
    "where $I_n$ is the $n \\times n$ identity matrix. $B$ is denoted as $A^{-1}$.\n",
    "\n",
    "* A matrix is singular iff its determinant is 0.\n",
    "* At least one of its eigenvalues is 0.\n",
    "* $rank A < n $.\n",
    "* The equation $A\\vec{x} = \\vec{0}$ has infinite solutions.\n",
    "* The equation $A\\vec{x} = \\vec{b}$, with $\\vec{b}\\neq \\vec{0}$, can have zero or infinite solutions.\n",
    "* $(A^{-1})^{-1} = A$.\n",
    "* $(kA)^{-1} = k^{-1} A^{-1}$, if $k \\neq 0$.\n",
    "* $(A^T)^{-1} = (A^{-1})^T$\n",
    "* $\\text{det}(A^{-1}) = \\text{det}(A)^{-1}$\n",
    "* $A^{-1} = Q \\Lambda^{-1} Q^{-1}$, where $Q$ and $\\Lambda$ are matrices obtained from the [eigendecomposition](https://en.wikipedia.org/wiki/Eigendecomposition_of_a_matrix) of the matrix: $A = Q \\Lambda Q^{-1}$."
   ]
  },
  {
   "cell_type": "markdown",
   "metadata": {},
   "source": [
    "### b) Vandermonde matrix\n",
    "\n",
    "Is a $m \\times n$ matrix with the following structure:\n",
    "$$\n",
    "V = \\begin{bmatrix}1&\\alpha _{1}&\\alpha _{1}^{2}&\\dots &\\alpha _{1}^{n-1}\\\\1&\\alpha _{2}&\\alpha _{2}^{2}&\\dots &\\alpha _{2}^{n-1}\\\\1&\\alpha _{3}&\\alpha _{3}^{2}&\\dots &\\alpha _{3}^{n-1}\\\\\\vdots &\\vdots &\\vdots &\\ddots &\\vdots \\\\1&\\alpha _{m}&\\alpha _{m}^{2}&\\dots &\\alpha _{m}^{n-1}\\end{bmatrix}\n",
    "$$\n",
    "* $\\det(V) = \\prod_{1\\leq i < j \\leq n} (a_j-a_i)$."
   ]
  },
  {
   "cell_type": "markdown",
   "metadata": {},
   "source": [
    "### c) Symmetric matrix\n",
    "\n",
    "A square matrix $A$ so that $A = A^T$.\n",
    "\n",
    "* Every square diagonal matrix is symmetric.\n",
    "* With $A,B$ symmetric, $A+B$ is symmetric.\n",
    "* With $A,B$ symmetric, iff $AB=BA$, then $AB$ is symmetric.\n",
    "* Given $n$ integer, $A^n$ is symmetric.\n",
    "* If $A^{-1}$ exists, it is symmetric.\n",
    "* If $A \\in \\mathbb{R}^{n\\times n}$, then $\\langle A\\vec{x}, \\vec{y} \\rangle = \\langle \\vec{x}, A\\vec{y} \\rangle \\quad \\forall \\vec{x},\\vec{y}, \\in \\mathbb{R}^n$\n",
    "* If $A$ is congruent with $R$, i.e. there exists an invertible matrix $P$ so that $P^T AP = B$, then $B$ is also symmetric.\n",
    "* Every squared real matrix can be docmposed into two real symmetric matrices.\n",
    "* If $A \\in \\mathbb{R}$, it is also hermitian (and has their properties!)."
   ]
  },
  {
   "cell_type": "markdown",
   "metadata": {},
   "source": [
    "### d) Hermitian matrix\n",
    "\n",
    "A square matrix $A$ so that $A = A^*$, where $A^* = \\overline{A^T}$.\n",
    "* $A$ has real eigenvalues.\n",
    "* $A$ is normal, i.e. $A^*A = AA^*$.\n",
    "* $\\langle \\vec{v}, A\\vec{v} \\rangle \\in \\mathbb{R}$\n",
    "* If $A$ is also positive-definite (i.e. $\\vec{z}^* A \\vec{z} > 0, \\forall z \\neq \\vec{0}$), then $A=LL^*$ where $L$ is a lower-triangular matrix.\n",
    "    * This is the [Cholesky decomposition](https://en.wikipedia.org/wiki/Cholesky_decomposition), more efficient than $LU$ decomposition for solving systems of linear equations.\n",
    "* $\\langle \\vec{v}, A \\vec{w} \\rangle = \\langle A\\vec{v}, \\vec{w} \\rangle$\n",
    "* With $A,B$ hermitian, $A+B$ is hermitian.\n",
    "* With $A,B$ hermitian, if $AB=BA$, then $AB$ is hermitian.\n",
    "* Given $n$ integer, $A^n$ is hermitian.\n",
    "* $A$ can be diagonalized: $A= Q\\Lambda Q^T$, where $Q$ is a unitary matrix.\n",
    "    * $Q$ is composed of orthonormal eigenvectors of $A$ and $\\Lambda$ is diagonal, having the eigenvalues of $A$.\n",
    "    * It holds that $$\n",
    "    A = \\sum_j \\lambda_j u_j u_j^* \\,,\n",
    "    $$ where the $u_j$'s are the orthonormal eigenvectors and the $\\lambda_j$'s are the eigenvalues.\n",
    "    * This is the [eigendecomposition](https://en.wikipedia.org/wiki/Eigendecomposition_of_a_matrix) of $A$."
   ]
  },
  {
   "cell_type": "code",
   "execution_count": null,
   "metadata": {},
   "outputs": [],
   "source": []
  }
 ],
 "metadata": {
  "kernelspec": {
   "display_name": "Python 3",
   "language": "python",
   "name": "python3"
  },
  "language_info": {
   "codemirror_mode": {
    "name": "ipython",
    "version": 3
   },
   "file_extension": ".py",
   "mimetype": "text/x-python",
   "name": "python",
   "nbconvert_exporter": "python",
   "pygments_lexer": "ipython3",
   "version": "3.6.8"
  }
 },
 "nbformat": 4,
 "nbformat_minor": 2
}
