{
 "cells": [
  {
   "cell_type": "code",
   "execution_count": 1,
   "metadata": {},
   "outputs": [],
   "source": [
    "import sympy"
   ]
  },
  {
   "cell_type": "markdown",
   "metadata": {},
   "source": [
    "# Item V\n",
    "\n",
    "Implement in Jupyter Notebook the Lagrange Interpolation method with *sympy*.\n",
    "Then, find the interpolation polynomial for the following points:\n",
    "* $(0,1),(1,2),(2,4)$. Is a second degree polynomial? If not, why is this?\n",
    "* $(0,1),(1,2),(2,3)$. Is a second degree polynomial? If not, why is this?\n",
    "---"
   ]
  },
  {
   "cell_type": "code",
   "execution_count": 4,
   "metadata": {},
   "outputs": [],
   "source": [
    "def lagrange(xs,ys):\n",
    "    assert(len(xs)==len(ys))\n",
    "    n = len(xs)\n",
    "    x = sympy.Symbol('x')\n",
    "    \n",
    "    poly = 0\n",
    "    for j in range(0,n):\n",
    "        lag = ys[j]\n",
    "        for m in range(0,n):\n",
    "            if j!=m:\n",
    "                lag *= (x-xs[m])/(xs[j]-xs[m])\n",
    "        poly += lag\n",
    "    return sympy.simplify(poly)"
   ]
  },
  {
   "cell_type": "code",
   "execution_count": 5,
   "metadata": {},
   "outputs": [
    {
     "data": {
      "text/latex": [
       "$\\displaystyle \\frac{x^{2}}{2} + \\frac{x}{2} + 1$"
      ],
      "text/plain": [
       "x**2/2 + x/2 + 1"
      ]
     },
     "execution_count": 5,
     "metadata": {},
     "output_type": "execute_result"
    }
   ],
   "source": [
    "lagrange([0,1,2],[1,2,4])"
   ]
  },
  {
   "cell_type": "code",
   "execution_count": 6,
   "metadata": {},
   "outputs": [
    {
     "data": {
      "text/latex": [
       "$\\displaystyle x + 1$"
      ],
      "text/plain": [
       "x + 1"
      ]
     },
     "execution_count": 6,
     "metadata": {},
     "output_type": "execute_result"
    }
   ],
   "source": [
    "lagrange([0,1,2],[1,2,3])"
   ]
  },
  {
   "cell_type": "markdown",
   "metadata": {},
   "source": [
    "* The first points have to be interpolated by a second degree polynomial as they are not collinear, so they cannot be interpolated by a line.\n",
    "* The second set of points are collinear, so they are interpolated by a polynomial of degree 1."
   ]
  }
 ],
 "metadata": {
  "kernelspec": {
   "display_name": "Python 3",
   "language": "python",
   "name": "python3"
  },
  "language_info": {
   "codemirror_mode": {
    "name": "ipython",
    "version": 3
   },
   "file_extension": ".py",
   "mimetype": "text/x-python",
   "name": "python",
   "nbconvert_exporter": "python",
   "pygments_lexer": "ipython3",
   "version": "3.6.8"
  }
 },
 "nbformat": 4,
 "nbformat_minor": 2
}
