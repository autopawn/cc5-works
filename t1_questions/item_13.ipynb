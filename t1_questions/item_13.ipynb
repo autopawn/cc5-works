{
 "cells": [
  {
   "cell_type": "code",
   "execution_count": 2,
   "metadata": {},
   "outputs": [],
   "source": [
    "import numpy as np"
   ]
  },
  {
   "cell_type": "markdown",
   "metadata": {},
   "source": [
    "# Item XIII\n",
    "Let $\\gamma$ be a positively oriented circular path with center $0$ at radious $\\alpha >2$, compute the following:\n",
    "* $\\int_{\\gamma} \\frac{\\exp(z)}{z} \\partial z = 2\\pi i$\n",
    "* $\\int_{\\gamma} \\frac{\\exp(z)}{z(z-1)} \\partial z = 2\\pi i (e-1)$\n",
    "* $\\int_{\\gamma} \\frac{\\exp(z)}{z^3} \\partial z = \\pi i$\n",
    "\n",
    "\\* **Note**: It seems that the exercises aren't correct.\n",
    "\n",
    "---"
   ]
  },
  {
   "cell_type": "markdown",
   "metadata": {},
   "source": [
    "We make use of the definition of the line integral:\n",
    "$$\n",
    "\\int_{\\mathcal {C}}f(\\mathbf {r} )\\,ds=\\int _{a}^{b}f\\left(\\mathbf {r} (t)\\right) \\mathbf {r} '(t)\\,dt.\n",
    "$$\n",
    "In particular, if the curve is a circunference of radious $r$ we can parametrize over the angle $\\theta$:\n",
    "$$\n",
    "\\int_{0}^{2\\pi} f\\left(\\, (r \\cos(\\theta), r \\sin(\\theta))\\, \\right) \\, (\\cos(\\theta)+i \\sin(\\theta))'r \\, \\partial \\theta\n",
    "$$\n",
    "In particular, if the axis $Y$ is for imaginary numbers:\n",
    "$$\n",
    "\\int_{0}^{2\\pi} f\\left( r \\cos(\\theta) + r \\sin(\\theta) i \\right) \\, (-\\sin(\\theta)+ i\\cos(\\theta))r \\, \\partial \\theta\n",
    "$$\n",
    "Using cuadrature:\n",
    "$$\n",
    " \\frac{2 \\pi}{n} \\sum_{i=0}^{n-1} f (r \\cos(\\theta_i)+ r \\sin(\\theta_i) i ) \\, (-r \\sin(\\theta_i)+ r i\\cos(\\theta_i))\n",
    "$$"
   ]
  },
  {
   "cell_type": "code",
   "execution_count": 3,
   "metadata": {},
   "outputs": [],
   "source": [
    "# Define the integral approximated as a Riemman sum (not the best way but the easiest).\n",
    "def circle_integral(fn,rad,imaginary_y=False,vectorized=False,n=300):\n",
    "    ts = np.linspace(0,2*np.pi,num=n,endpoint=False)\n",
    "    \n",
    "    xs = rad*np.cos(ts)\n",
    "    ys = rad*np.sin(ts)\n",
    "        \n",
    "    if imaginary_y:\n",
    "        if vectorized:\n",
    "            fs = fn(xs+ys*1j)*(-ys+xs*1j)\n",
    "        else:\n",
    "            fs = [fn(x+y*1j)*(-y+x*1j) for x,y in zip(xs,ys)]\n",
    "    else:\n",
    "        if vectorized:\n",
    "            fs = fn(xs,ys)*(-ys+xs*1j)\n",
    "        else:\n",
    "            fs = [fn(x,y)*(-y+x*1j) for x,y in zip(xs,ys)]\n",
    "    \n",
    "    return (2*np.pi/n)*np.sum(fs)"
   ]
  },
  {
   "cell_type": "markdown",
   "metadata": {},
   "source": [
    "We compute the intergrals. In order to get the asked results we should consider circular paths where the component Y is imaginary:"
   ]
  },
  {
   "cell_type": "code",
   "execution_count": 4,
   "metadata": {},
   "outputs": [
    {
     "name": "stdout",
     "output_type": "stream",
     "text": [
      "item1:\n",
      "\talpha=2.50:\n",
      "\t\tfun_eval:(-0+6.283185j)\n",
      "\t\tval_eval:6.283185307179586j\n",
      "\talpha=3.00:\n",
      "\t\tfun_eval:6.283185j\n",
      "\t\tval_eval:6.283185307179586j\n",
      "\talpha=3.50:\n",
      "\t\tfun_eval:(-0+6.283185j)\n",
      "\t\tval_eval:6.283185307179586j\n",
      "\talpha=4.00:\n",
      "\t\tfun_eval:(-0+6.283185j)\n",
      "\t\tval_eval:6.283185307179586j\n",
      "\talpha=4.50:\n",
      "\t\tfun_eval:(-0+6.283185j)\n",
      "\t\tval_eval:6.283185307179586j\n",
      "\talpha=5.00:\n",
      "\t\tfun_eval:(-0+6.283185j)\n",
      "\t\tval_eval:6.283185307179586j\n",
      "item2:\n",
      "\talpha=2.50:\n",
      "\t\tfun_eval:(-0+10.796283j)\n",
      "\t\tval_eval:10.796283138167546j\n",
      "\talpha=3.00:\n",
      "\t\tfun_eval:10.796283j\n",
      "\t\tval_eval:10.796283138167546j\n",
      "\talpha=3.50:\n",
      "\t\tfun_eval:10.796283j\n",
      "\t\tval_eval:10.796283138167546j\n",
      "\talpha=4.00:\n",
      "\t\tfun_eval:(-0+10.796283j)\n",
      "\t\tval_eval:10.796283138167546j\n",
      "\talpha=4.50:\n",
      "\t\tfun_eval:(-0+10.796283j)\n",
      "\t\tval_eval:10.796283138167546j\n",
      "\talpha=5.00:\n",
      "\t\tfun_eval:(-0+10.796283j)\n",
      "\t\tval_eval:10.796283138167546j\n",
      "item3:\n",
      "\talpha=2.50:\n",
      "\t\tfun_eval:3.141593j\n",
      "\t\tval_eval:3.141592653589793j\n",
      "\talpha=3.00:\n",
      "\t\tfun_eval:3.141593j\n",
      "\t\tval_eval:3.141592653589793j\n",
      "\talpha=3.50:\n",
      "\t\tfun_eval:(-0+3.141593j)\n",
      "\t\tval_eval:3.141592653589793j\n",
      "\talpha=4.00:\n",
      "\t\tfun_eval:(-0+3.141593j)\n",
      "\t\tval_eval:3.141592653589793j\n",
      "\talpha=4.50:\n",
      "\t\tfun_eval:(-0+3.141593j)\n",
      "\t\tval_eval:3.141592653589793j\n",
      "\talpha=5.00:\n",
      "\t\tfun_eval:3.141593j\n",
      "\t\tval_eval:3.141592653589793j\n"
     ]
    }
   ],
   "source": [
    "functions = [\n",
    "    (\"item1\", lambda z: np.exp(z)/z,         lambda a: 2*np.pi*1j),\n",
    "    (\"item2\", lambda z: np.exp(z)/(z*(z-1)), lambda a: 2*np.pi*1j*(np.e-1)),\n",
    "    (\"item3\", lambda z: np.exp(z)/z**3,      lambda a: np.pi*1j),\n",
    "]\n",
    "\n",
    "for name,fun,val in functions:\n",
    "    print(name+\":\")\n",
    "    for alpha in np.arange(2.5,5.01,0.5):\n",
    "        fun_eval = circle_integral(fun,alpha,imaginary_y=True,vectorized=True)\n",
    "        fun_eval = round(fun_eval,6)\n",
    "        val_eval = val(alpha)\n",
    "        print(\"\\talpha=%4.2f:\"%alpha)\n",
    "        print(\"\\t\\tfun_eval:%s\"%fun_eval)\n",
    "        print(\"\\t\\tval_eval:%s\"%val_eval)"
   ]
  },
  {
   "cell_type": "markdown",
   "metadata": {},
   "source": [
    "It can be seen that the results aren't the same."
   ]
  },
  {
   "cell_type": "code",
   "execution_count": null,
   "metadata": {},
   "outputs": [],
   "source": []
  }
 ],
 "metadata": {
  "kernelspec": {
   "display_name": "Python 3",
   "language": "python",
   "name": "python3"
  },
  "language_info": {
   "codemirror_mode": {
    "name": "ipython",
    "version": 3
   },
   "file_extension": ".py",
   "mimetype": "text/x-python",
   "name": "python",
   "nbconvert_exporter": "python",
   "pygments_lexer": "ipython3",
   "version": "3.6.8"
  }
 },
 "nbformat": 4,
 "nbformat_minor": 2
}
