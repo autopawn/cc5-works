{
 "cells": [
  {
   "cell_type": "markdown",
   "metadata": {},
   "source": [
    "# Item III\n",
    "\n",
    "*Solving a very (un)known problem*\n",
    "\n",
    "1. Implement a function that finds the two roots of the quadratic equation $a x^2 + b x + c = 0$ given $a$,$b$, and $c$, i.e. implement $x_{\\pm} = \\frac{-b \\pm \\sqrt{b^2-4ac}}{2a}$.\n",
    "2. What are the roots of $2x^2+10^9+1 = 0$? How many digits of significance can you get for the two roots? Is there any problem?\n",
    "3. Design a code that finds the correct roots for $x^2+Bx+C=0$, given $B \\gg C$ to at least 2 digits of significance.\n",
    "4. Solve the previous equation using this new code and find the new roots. *I hope it works!*\n",
    "5. From the well-known solution $x_{\\pm}$ of the quadratic equation design an algorithm that approximates the two roots of $x^2+Bx+C = 0$, given $B \\gg C$. Hint: *A Taylor expansion may work*.\n",
    "---"
   ]
  },
  {
   "cell_type": "markdown",
   "metadata": {},
   "source": [
    "## Part 1"
   ]
  },
  {
   "cell_type": "code",
   "execution_count": 1,
   "metadata": {},
   "outputs": [],
   "source": [
    "def solve_quadratic(a,b,c):\n",
    "    assert(a!=0)\n",
    "    disc = (b**2-4*a*c+0j)**0.5\n",
    "    x1 = (-b-disc)/(2*a)\n",
    "    x2 = (-b+disc)/(2*a)\n",
    "    return (x1,x2)"
   ]
  },
  {
   "cell_type": "markdown",
   "metadata": {},
   "source": [
    "## Part 2\n",
    "\n",
    "The analytical solution is:\n",
    "$$\n",
    "x_{\\pm} = \\frac{-10^{9}\\pm\\sqrt{10^{18}-8}}{4}\n",
    "$$"
   ]
  },
  {
   "cell_type": "code",
   "execution_count": 4,
   "metadata": {},
   "outputs": [
    {
     "name": "stdout",
     "output_type": "stream",
     "text": [
      "x-: (-500000000+0j)\n",
      "x+: 0j\n"
     ]
    }
   ],
   "source": [
    "# if we use the solver\n",
    "x1,x2 = solve_quadratic(2,1e9,1)\n",
    "print(\"x-:\",x1)\n",
    "print(\"x+:\",x2)"
   ]
  },
  {
   "cell_type": "markdown",
   "metadata": {},
   "source": [
    "The approximation given for $x_{-}$ is good since the relative error is very little (the approximation $\\sqrt{10^{18}-8} \\approx 10^{9}$ that the computer does because of the *absorption* of the much smaller $-8$ doesn't affect the relative error too much).\n",
    "<!-- we have as many digits of significance as the double's allow, since -->\n",
    "\n",
    "For $x_{+}$ however, the error is equal to the value of the root, since  "
   ]
  },
  {
   "cell_type": "markdown",
   "metadata": {},
   "source": [
    "## Part 3\n",
    "\n",
    "We make the following change to the equation:\n",
    "\\begin{align}\n",
    "x_{\\pm} = \\frac{-b \\pm \\sqrt{b^2-4ac}}{2a} &= \\frac{-b \\pm \\sqrt{b^2-4ac}}{2a} \\cdot \\frac{-b \\mp \\sqrt{b^2-4ac}}{-b \\mp \\sqrt{b^2-4ac}}\n",
    "\\\\ &= \\frac{4ac}{2a \\left(-b \\mp \\sqrt{b^2-4ac}\\right)}\n",
    "\\\\ &= \\frac{-2c}{\\left(b \\pm \\sqrt{b^2-4ac}\\right)}\n",
    "\\end{align}\n",
    "we can use it for $x_{+}$ if $b>0$ or $x_{-}$ otherwise."
   ]
  },
  {
   "cell_type": "code",
   "execution_count": 5,
   "metadata": {},
   "outputs": [],
   "source": [
    "def solve_quadratic_2(a,b,c):\n",
    "    assert(a!=0)\n",
    "    disc = (b**2-4*a*c+0j)**0.5\n",
    "    if b>0:\n",
    "        x1 = (-b-disc)/(2*a)\n",
    "        x2 = -2*c/(b+disc)\n",
    "    else:\n",
    "        x1 = -2*c/(b-disc)\n",
    "        x2 = (-b+disc)/(2*a)\n",
    "    return (x1,x2)"
   ]
  },
  {
   "cell_type": "markdown",
   "metadata": {},
   "source": [
    "## Part 4\n",
    "\n",
    "We solve using the new method and see that it works."
   ]
  },
  {
   "cell_type": "code",
   "execution_count": 6,
   "metadata": {},
   "outputs": [
    {
     "name": "stdout",
     "output_type": "stream",
     "text": [
      "x-: (-500000000+0j)\n",
      "x+: (-1e-09+0j)\n"
     ]
    }
   ],
   "source": [
    "x1,x2 = solve_quadratic_2(2,1e9,1)\n",
    "print(\"x-:\",x1)\n",
    "print(\"x+:\",x2)"
   ]
  },
  {
   "cell_type": "markdown",
   "metadata": {},
   "source": [
    "## Part 5\n",
    "\n",
    "If $C$ is small, we can approximate the solution:\n",
    "$$\n",
    "x = x_0 + C x_1 + C^2 x_2 + ...\n",
    "$$\n",
    "\n",
    "Then\n",
    "$$\n",
    "\\begin{align}\n",
    "x^2 + B x + C &= 0\n",
    "\\\\ (x_0^2 + C (2x_0x_1) + C^2 (x_1^2 + 2x_0x_2) + \\dots) + (Bx_0 + C B x_1 + C^2 B x_2 + \\dots) + C &= 0\n",
    "\\end{align}\n",
    "$$\n",
    "And we have the following equations:\n",
    "\\begin{align}\n",
    "O(C^0) :  &\\qquad x_0^2 + B x_0 = 0 \n",
    "\\\\ O(C^1) :  &\\qquad 2x_0x_1 + B x_1 +1 = 0 \n",
    "\\\\ O(C^2) :  &\\qquad x_1^2 + 2 x_0x_2 + B x_2 = 0 \n",
    "\\end{align}\n",
    "which have the following solutions:\n",
    "$$\n",
    "(x_0,x_1,x_2)_1 = \\left(0,\\frac{-1}{B},\\frac{-1}{B^3}\\right)\n",
    "$$\n",
    "$$\n",
    "(x_0,x_1,x_2)_2 = \\left(-B,\\frac{1}{B},\\frac{1}{B^3}\\right)\n",
    "$$\n",
    "which result in the following approximations for $x$:\n",
    "$$\n",
    "\\begin{align}\n",
    "x_{1} &= 0 + C \\frac{-1}{B} + C^2 \\frac{-1}{B^3} + \\cdots\n",
    "\\\\ x_{2} &= -B + C \\frac{1}{B} + C^2 \\frac{1}{B^3} + \\cdots\n",
    "\\end{align}\n",
    "$$"
   ]
  },
  {
   "cell_type": "code",
   "execution_count": 20,
   "metadata": {},
   "outputs": [],
   "source": [
    "def solve_quadratic_3(a,b,c):\n",
    "    # In case a!=1 we just have to scale the equation:\n",
    "    b /= a\n",
    "    c /= a\n",
    "    # Approximations:\n",
    "    x1 = 0+c*(-1/b)+c**2*(-1/b**3)\n",
    "    x2 = -b+c*(1/b)+c**2*(1/b**3)\n",
    "    return (x1,x2)"
   ]
  },
  {
   "cell_type": "code",
   "execution_count": 21,
   "metadata": {},
   "outputs": [
    {
     "name": "stdout",
     "output_type": "stream",
     "text": [
      "x1: -1e-09\n",
      "x2: -500000000.0\n"
     ]
    }
   ],
   "source": [
    "x1,x2 = solve_quadratic_3(2,1e9,1)\n",
    "print(\"x1:\",x1)\n",
    "print(\"x2:\",x2)"
   ]
  },
  {
   "cell_type": "code",
   "execution_count": null,
   "metadata": {},
   "outputs": [],
   "source": []
  }
 ],
 "metadata": {
  "kernelspec": {
   "display_name": "Python 3",
   "language": "python",
   "name": "python3"
  },
  "language_info": {
   "codemirror_mode": {
    "name": "ipython",
    "version": 3
   },
   "file_extension": ".py",
   "mimetype": "text/x-python",
   "name": "python",
   "nbconvert_exporter": "python",
   "pygments_lexer": "ipython3",
   "version": "3.6.8"
  }
 },
 "nbformat": 4,
 "nbformat_minor": 2
}
