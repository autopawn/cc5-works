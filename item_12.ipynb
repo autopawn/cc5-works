{
 "cells": [
  {
   "cell_type": "code",
   "execution_count": 1,
   "metadata": {},
   "outputs": [],
   "source": [
    "import numpy as np\n",
    "import matplotlib.pyplot as plt"
   ]
  },
  {
   "cell_type": "markdown",
   "metadata": {},
   "source": [
    "---\n",
    "\n",
    "# Item XII\n",
    "\n",
    "Let $\\ddot{y}(t)-\\mu (1-y^2(t)) \\dot{y}(t) + y(t) = 0$, with $y(0)=2$ , $\\dot{y}(0)=0$, and $\\mu = 1234$.\n",
    "1. Approximate the solution by means of a Taylor series expansion about $t=0$.\n",
    "2. Implement a numerical solver for it. *You may not use scipy but you can use numpy*.\n",
    "3. Compare both solutions and comment on the comparison.\n",
    "---"
   ]
  },
  {
   "cell_type": "markdown",
   "metadata": {},
   "source": [
    "## Part 1\n",
    "\n",
    "We do the approximation:\n",
    "\\begin{align}\n",
    "y(t) &= y(0) + t \\dot{y}(0) + \\frac{1}{2} t^2 \\ddot{y}(0)\n",
    "\\\\ &= 2 + \\frac{1}{2}t^2\\ddot{y}(0) \\,.\n",
    "\\end{align}\n",
    "\n",
    "In order to compute $\\ddot{y}(0)$ we use the equation given, at $t=0$:\n",
    "\\begin{align}\n",
    "\\ddot{y}(0) - \\mu(1-y^2(0)) \\dot{y}(0) + y(0) &= 0\n",
    "\\\\ \\ddot{y}(0) &= -y(0)\n",
    "\\\\ &= -2 \\, .\n",
    "\\end{align}\n",
    "\n",
    "And the approximation is $$y(t) = 2-t^2 \\,.$$"
   ]
  },
  {
   "cell_type": "markdown",
   "metadata": {},
   "source": [
    "## Part 2"
   ]
  },
  {
   "cell_type": "code",
   "execution_count": 2,
   "metadata": {},
   "outputs": [],
   "source": [
    "# Euler's method as a higher order function:\n",
    "def euler(yp=lambda y,t:1,yi=0,tmin=0,tmax=1.0,steps=400):\n",
    "    delta = (tmax-tmin)/float(steps)\n",
    "    t = tmin\n",
    "    ys = []\n",
    "    ys.append(yi)\n",
    "    for i in range(steps):\n",
    "        t = tmin+delta*i\n",
    "        yp_next = yp(ys[-1],t)\n",
    "        y_next = ys[-1]+delta*yp_next\n",
    "        ys.append(y_next)\n",
    "    return ys"
   ]
  },
  {
   "cell_type": "markdown",
   "metadata": {},
   "source": [
    "We use it in the following way:\n",
    "\n",
    "$$\n",
    "\\begin{bmatrix} y_{t+1} \\\\ \\dot{y}_{y+1} \\end{bmatrix}\n",
    "=\n",
    "\\begin{bmatrix} \\dot{y}_{t} \\\\ \\ddot{y}(t) \\end{bmatrix} \\Delta t\n",
    "+ \n",
    "\\begin{bmatrix} y_{t} \\\\ \\dot{y}_t \\end{bmatrix} \\Delta t\n",
    "$$\n",
    "\n",
    "remembering that\n",
    "$$\n",
    "\\ddot{y}(t) = \\mu (1-y^2(t)) \\dot{y}(t) - y(t) = 0\n",
    "$$"
   ]
  },
  {
   "cell_type": "code",
   "execution_count": 3,
   "metadata": {},
   "outputs": [
    {
     "name": "stdout",
     "output_type": "stream",
     "text": [
      "Taylor:\n",
      "\ty(1.000000) = 1.000000\n",
      "\ty(2.000000) = -2.000000\n",
      "\ty(3.000000) = -7.000000\n",
      "\ty(4.000000) = -14.000000\n",
      "Euler's:\n",
      "\ty(1.000000) = 1.999460\n",
      "\ty(2.000000) = 1.998919\n",
      "\ty(3.000000) = 1.998378\n",
      "\ty(4.000000) = 1.997837\n"
     ]
    }
   ],
   "source": [
    "mu = 1234\n",
    "N = 40000\n",
    "YF = 4.0\n",
    "xs = np.linspace(0,YF,num=N+1)\n",
    "# --- Approximation with Taylor\n",
    "y_tay = 2-xs**2.0\n",
    "# --- Solution:\n",
    "fn = lambda ys,t: np.array([ys[1], mu*(1-ys[0]**2)*ys[1] - ys[0]])\n",
    "yini = np.array([2,0])\n",
    "result = euler(fn,yini,tmin=0,tmax=YF,steps=N)\n",
    "y_sol = [a[0] for a in result]\n",
    "yp_sol = [a[1] for a in result]\n",
    "# --- Print values at some points:\n",
    "NS = (N//4,N//2,N*3//4,N)\n",
    "print(\"Taylor:\")\n",
    "for i in NS:\n",
    "    print(\"\\ty(%f) = %f\"%(xs[i],y_tay[i]))\n",
    "print(\"Euler's:\")\n",
    "for i in NS:\n",
    "    print(\"\\ty(%f) = %f\"%(xs[i],y_sol[i]))"
   ]
  },
  {
   "cell_type": "markdown",
   "metadata": {},
   "source": [
    "## Part 3\n",
    "\n",
    "Plot both solutions:"
   ]
  },
  {
   "cell_type": "code",
   "execution_count": 4,
   "metadata": {},
   "outputs": [
    {
     "data": {
      "image/png": "[encoded data removed]",
      "text/plain": [
       "<Figure size 432x288 with 1 Axes>"
      ]
     },
     "metadata": {
      "needs_background": "light"
     },
     "output_type": "display_data"
    }
   ],
   "source": [
    "plt.plot(xs,y_tay,label=\"Taylor approx.\")\n",
    "plt.plot(xs,y_sol,label=\"Euler's method\")\n",
    "plt.grid()\n",
    "plt.legend()\n",
    "plt.show()"
   ]
  },
  {
   "cell_type": "markdown",
   "metadata": {},
   "source": [
    "It can be seen that the Talor's approximation is bad as it doens't consider that $y''(t)$ is really small except on $t=0$ (due the large value of $\\mu$)."
   ]
  },
  {
   "cell_type": "code",
   "execution_count": 5,
   "metadata": {},
   "outputs": [
    {
     "data": {
      "image/png": "[encoded data removed]",
      "text/plain": [
       "<Figure size 432x288 with 1 Axes>"
      ]
     },
     "metadata": {
      "needs_background": "light"
     },
     "output_type": "display_data"
    }
   ],
   "source": [
    "plt.plot(xs,yp_sol,label=\"Euler's y'(t)\")\n",
    "plt.grid()\n",
    "plt.legend()\n",
    "plt.show()"
   ]
  },
  {
   "cell_type": "code",
   "execution_count": null,
   "metadata": {},
   "outputs": [],
   "source": []
  }
 ],
 "metadata": {
  "kernelspec": {
   "display_name": "Python 3",
   "language": "python",
   "name": "python3"
  },
  "language_info": {
   "codemirror_mode": {
    "name": "ipython",
    "version": 3
   },
   "file_extension": ".py",
   "mimetype": "text/x-python",
   "name": "python",
   "nbconvert_exporter": "python",
   "pygments_lexer": "ipython3",
   "version": "3.6.8"
  }
 },
 "nbformat": 4,
 "nbformat_minor": 2
}
